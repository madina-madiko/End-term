{
 "cells": [
  {
   "cell_type": "code",
   "execution_count": 26,
   "metadata": {},
   "outputs": [
    {
     "name": "stdout",
     "output_type": "stream",
     "text": [
      "The amount of train images 60000\n",
      "The amount of test images 60000\n",
      "The label of random image 2 The random image is \n",
      "............................\n",
      "............................\n",
      "............................\n",
      "............................\n",
      "..............@@@...........\n",
      "...........@@@@..@@.........\n",
      ".........@@@@.....@@........\n",
      ".......@@@@........@........\n",
      ".......@@@.........@@.......\n",
      "...................@@.......\n",
      "...................@@.......\n",
      "...................@@.......\n",
      "...................@@.......\n",
      "...................@@.......\n",
      "..........@@@@.....@@.......\n",
      ".........@@@@@@@...@........\n",
      "........@@.....@@@@@........\n",
      ".......@@.......@@@@........\n",
      ".......@.........@@@........\n",
      "......@@........@@@@........\n",
      "......@........@@..@@.......\n",
      "......@.......@@...@@.......\n",
      ".......@....@@@....@@.......\n",
      ".........@@@@...............\n",
      "............................\n",
      "............................\n",
      "............................\n",
      "............................\n",
      "Images are binary with 28*28 =  784\n"
     ]
    }
   ],
   "source": [
    "from mnist import MNIST\n",
    "import random\n",
    "mndata = MNIST('./data/')\n",
    "\n",
    "trimages, trlabels = mndata.load_training()\n",
    "teimages, telabels = mndata.load_testing()\n",
    "index = random.randrange(0, len(trimages))\n",
    "print('The amount of train images',len(trimages))\n",
    "print('The amount of test images',len(trimages))\n",
    "print('The label of random image',trlabels[index],'The random image is',mndata.display(trimages[index]))\n",
    "print('Images are binary with 28*28 = ',len(trimages[index]))"
   ]
  },
  {
   "cell_type": "code",
   "execution_count": 27,
   "metadata": {
    "collapsed": true
   },
   "outputs": [],
   "source": [
    "from keras.models import Sequential\n",
    "from keras.layers import Dense"
   ]
  },
  {
   "cell_type": "code",
   "execution_count": 28,
   "metadata": {},
   "outputs": [],
   "source": [
    "import numpy as np\n",
    "from keras.utils.np_utils import to_categorical"
   ]
  },
  {
   "cell_type": "code",
   "execution_count": 29,
   "metadata": {},
   "outputs": [],
   "source": [
    "y_nn = to_categorical(trlabels)"
   ]
  },
  {
   "cell_type": "code",
   "execution_count": 30,
   "metadata": {},
   "outputs": [],
   "source": [
    "X = np.array(trimages)"
   ]
  },
  {
   "cell_type": "code",
   "execution_count": 31,
   "metadata": {},
   "outputs": [
    {
     "name": "stderr",
     "output_type": "stream",
     "text": [
      "C:\\Users\\User\\Anaconda3\\lib\\site-packages\\ipykernel_launcher.py:6: UserWarning: Update your `Dense` call to the Keras 2 API: `Dense(512, input_dim=784, activation=\"relu\", kernel_initializer=\"uniform\")`\n",
      "  \n",
      "C:\\Users\\User\\Anaconda3\\lib\\site-packages\\ipykernel_launcher.py:7: UserWarning: Update your `Dense` call to the Keras 2 API: `Dense(256, activation=\"relu\", kernel_initializer=\"uniform\")`\n",
      "  import sys\n",
      "C:\\Users\\User\\Anaconda3\\lib\\site-packages\\ipykernel_launcher.py:8: UserWarning: Update your `Dense` call to the Keras 2 API: `Dense(128, activation=\"relu\", kernel_initializer=\"uniform\")`\n",
      "  \n",
      "C:\\Users\\User\\Anaconda3\\lib\\site-packages\\ipykernel_launcher.py:9: UserWarning: Update your `Dense` call to the Keras 2 API: `Dense(64, activation=\"relu\", kernel_initializer=\"uniform\")`\n",
      "  if __name__ == '__main__':\n",
      "C:\\Users\\User\\Anaconda3\\lib\\site-packages\\ipykernel_launcher.py:10: UserWarning: Update your `Dense` call to the Keras 2 API: `Dense(10, activation=\"sigmoid\", kernel_initializer=\"uniform\")`\n",
      "  # Remove the CWD from sys.path while we load stuff.\n"
     ]
    }
   ],
   "source": [
    "seed = 7\n",
    "np.random.seed(seed)\n",
    "\n",
    "\n",
    "model = Sequential()\n",
    "model.add(Dense(512, input_dim=X.shape[1], init='uniform', activation='relu'))\n",
    "model.add(Dense(256, init='uniform', activation='relu'))\n",
    "model.add(Dense(128, init='uniform', activation='relu'))\n",
    "model.add(Dense(64, init='uniform', activation='relu'))\n",
    "model.add(Dense(y_nn.shape[1], init='uniform', activation='sigmoid'))\n",
    "\n",
    "model.compile(loss='categorical_crossentropy', optimizer='adam', metrics=['accuracy'])"
   ]
  },
  {
   "cell_type": "code",
   "execution_count": 32,
   "metadata": {},
   "outputs": [
    {
     "name": "stdout",
     "output_type": "stream",
     "text": [
      "Epoch 1/20\n",
      "60000/60000 [==============================] - 6s 104us/step - loss: 0.7560 - acc: 0.7856\n",
      "Epoch 2/20\n",
      "60000/60000 [==============================] - 6s 100us/step - loss: 0.1795 - acc: 0.9470\n",
      "Epoch 3/20\n",
      "60000/60000 [==============================] - 7s 115us/step - loss: 0.1128 - acc: 0.9657\n",
      "Epoch 4/20\n",
      "60000/60000 [==============================] - 8s 135us/step - loss: 0.0777 - acc: 0.9767\n",
      "Epoch 5/20\n",
      "60000/60000 [==============================] - 7s 112us/step - loss: 0.0573 - acc: 0.9827\n",
      "Epoch 6/20\n",
      "60000/60000 [==============================] - 6s 106us/step - loss: 0.0424 - acc: 0.9870\n",
      "Epoch 7/20\n",
      "60000/60000 [==============================] - 6s 99us/step - loss: 0.0286 - acc: 0.9920\n",
      "Epoch 8/20\n",
      "60000/60000 [==============================] - 6s 98us/step - loss: 0.0212 - acc: 0.9941\n",
      "Epoch 9/20\n",
      "60000/60000 [==============================] - 6s 104us/step - loss: 0.0166 - acc: 0.9952\n",
      "Epoch 10/20\n",
      "60000/60000 [==============================] - 6s 98us/step - loss: 0.0140 - acc: 0.9962\n",
      "Epoch 11/20\n",
      "60000/60000 [==============================] - 6s 100us/step - loss: 0.0113 - acc: 0.9969\n",
      "Epoch 12/20\n",
      "60000/60000 [==============================] - 7s 110us/step - loss: 0.0084 - acc: 0.9976\n",
      "Epoch 13/20\n",
      "60000/60000 [==============================] - 6s 103us/step - loss: 0.0071 - acc: 0.9980\n",
      "Epoch 14/20\n",
      "60000/60000 [==============================] - 8s 127us/step - loss: 0.0061 - acc: 0.9983 5s - loss:\n",
      "Epoch 15/20\n",
      "60000/60000 [==============================] - 6s 104us/step - loss: 0.0036 - acc: 0.9993\n",
      "Epoch 16/20\n",
      "60000/60000 [==============================] - 6s 99us/step - loss: 0.0027 - acc: 0.9994\n",
      "Epoch 17/20\n",
      "60000/60000 [==============================] - 6s 98us/step - loss: 0.0021 - acc: 0.9996\n",
      "Epoch 18/20\n",
      "60000/60000 [==============================] - 6s 98us/step - loss: 0.0050 - acc: 0.9986\n",
      "Epoch 19/20\n",
      "60000/60000 [==============================] - 6s 98us/step - loss: 0.0042 - acc: 0.9987\n",
      "Epoch 20/20\n",
      "60000/60000 [==============================] - 6s 100us/step - loss: 0.0063 - acc: 0.9980\n"
     ]
    },
    {
     "data": {
      "text/plain": [
       "<keras.callbacks.History at 0x2367c3ab828>"
      ]
     },
     "execution_count": 32,
     "metadata": {},
     "output_type": "execute_result"
    }
   ],
   "source": [
    "# Fit the model\n",
    "model.fit(X, y_nn, epochs=20, batch_size=2000, verbose=1)"
   ]
  },
  {
   "cell_type": "code",
   "execution_count": 33,
   "metadata": {},
   "outputs": [],
   "source": [
    "from sklearn.metrics import accuracy_score"
   ]
  },
  {
   "cell_type": "code",
   "execution_count": 34,
   "metadata": {
    "collapsed": true
   },
   "outputs": [],
   "source": [
    "test_X = np.array(teimages)"
   ]
  },
  {
   "cell_type": "code",
   "execution_count": 35,
   "metadata": {},
   "outputs": [
    {
     "data": {
      "text/plain": [
       "0.97489999999999999"
      ]
     },
     "execution_count": 35,
     "metadata": {},
     "output_type": "execute_result"
    }
   ],
   "source": [
    "accuracy_score(model.predict_classes(test_X), np.array(telabels))"
   ]
  },
  {
   "cell_type": "code",
   "execution_count": 36,
   "metadata": {},
   "outputs": [
    {
     "data": {
      "text/plain": [
       "0.99561666666666671"
      ]
     },
     "execution_count": 36,
     "metadata": {},
     "output_type": "execute_result"
    }
   ],
   "source": [
    "accuracy_score(model.predict_classes(X), np.array(trlabels))"
   ]
  },
  {
   "cell_type": "code",
   "execution_count": null,
   "metadata": {
    "collapsed": true
   },
   "outputs": [],
   "source": []
  }
 ],
 "metadata": {
  "kernelspec": {
   "display_name": "Python 3",
   "language": "python",
   "name": "python3"
  },
  "language_info": {
   "codemirror_mode": {
    "name": "ipython",
    "version": 3
   },
   "file_extension": ".py",
   "mimetype": "text/x-python",
   "name": "python",
   "nbconvert_exporter": "python",
   "pygments_lexer": "ipython3",
   "version": "3.6.1"
  }
 },
 "nbformat": 4,
 "nbformat_minor": 2
}
